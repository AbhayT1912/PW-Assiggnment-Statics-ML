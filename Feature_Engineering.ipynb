{
  "nbformat": 4,
  "nbformat_minor": 0,
  "metadata": {
    "colab": {
      "provenance": []
    },
    "kernelspec": {
      "name": "python3",
      "display_name": "Python 3"
    },
    "language_info": {
      "name": "python"
    }
  },
  "cells": [
    {
      "cell_type": "markdown",
      "source": [
        "# Assignment: Feature Engineering"
      ],
      "metadata": {
        "id": "s2iwdU1gCRMp"
      }
    },
    {
      "cell_type": "markdown",
      "source": [
        "1. What is a parameter?\n",
        "\n",
        "Ans:- A parameter is a variable that the model learns during training to make predictions. Examples: weights in linear regression, coefficients in neural networks."
      ],
      "metadata": {
        "id": "7zEWseigCV-_"
      }
    },
    {
      "cell_type": "markdown",
      "source": [
        "2. What is correlation? What does negative correlation mean?\n",
        "\n",
        "Ans:- Correlation measures the linear relationship between two variables (-1 to +1). Negative correlation means as one variable increases, the other decreases."
      ],
      "metadata": {
        "id": "PMV69jijCoHF"
      }
    },
    {
      "cell_type": "code",
      "source": [
        "#ex:-\n",
        "\n",
        "import pandas as pd\n",
        "import numpy as np\n",
        "\n",
        "data = pd.DataFrame({'height': [150, 160, 170, 180], 'weight': [50, 60, 70, 80]})\n",
        "correlation = data['height'].corr(data['weight'])\n",
        "print(f\"Correlation: {correlation}\")"
      ],
      "metadata": {
        "colab": {
          "base_uri": "https://localhost:8080/"
        },
        "id": "xteJLj1TC1Jm",
        "outputId": "21e1efe6-1626-4836-9db6-d4bb4c6f46a8"
      },
      "execution_count": 1,
      "outputs": [
        {
          "output_type": "stream",
          "name": "stdout",
          "text": [
            "Correlation: 1.0\n"
          ]
        }
      ]
    },
    {
      "cell_type": "markdown",
      "source": [
        "3. Define Machine Learning. Main components?\n",
        "\n",
        "Ans:- Machine Learning is teaching computers to learn patterns from data without explicit programming. Main components: Data, Algorithm, Model, Training, Evaluation."
      ],
      "metadata": {
        "id": "SkfQOe1jDBIv"
      }
    },
    {
      "cell_type": "markdown",
      "source": [
        "4. How does loss value help determine if model is good?\n",
        "\n",
        "Ans:- Loss measures prediction error. Lower loss = better model. It guides optimization during training."
      ],
      "metadata": {
        "id": "JDs6p6V-DKdC"
      }
    },
    {
      "cell_type": "markdown",
      "source": [
        "5. What are continuous and categorical variables?\n",
        "\n",
        "Ans:- Continuous: Numerical values that can take any value (height, weight, temperature)\n",
        "\n",
        "Categorical: Discrete categories (color, gender, city)"
      ],
      "metadata": {
        "id": "O6-Ns_W8DfOE"
      }
    },
    {
      "cell_type": "code",
      "source": [
        "df = pd.DataFrame({\n",
        "    'age': [25, 30, 35],\n",
        "    'salary': [50000, 60000, 70000],\n",
        "    'city': ['Mumbai', 'Delhi', 'Bangalore'],\n",
        "    'gender': ['M', 'F', 'M']\n",
        "})\n",
        "\n",
        "print(df.dtypes)"
      ],
      "metadata": {
        "colab": {
          "base_uri": "https://localhost:8080/"
        },
        "id": "gS9f0DyyDtGv",
        "outputId": "09fb5dbf-03a6-4384-b36c-8e6c06308384"
      },
      "execution_count": 2,
      "outputs": [
        {
          "output_type": "stream",
          "name": "stdout",
          "text": [
            "age        int64\n",
            "salary     int64\n",
            "city      object\n",
            "gender    object\n",
            "dtype: object\n"
          ]
        }
      ]
    },
    {
      "cell_type": "markdown",
      "source": [
        "6.  How to handle categorical variables? Common techniques?\n",
        "\n",
        "Ans:- Use encoding techniques: One-Hot Encoding, Label Encoding, Ordinal Encoding."
      ],
      "metadata": {
        "id": "LCvyNg_ODosz"
      }
    },
    {
      "cell_type": "code",
      "source": [
        "from sklearn.preprocessing import LabelEncoder, OneHotEncoder\n",
        "import pandas as pd\n",
        "\n",
        "# Label Encoding\n",
        "le = LabelEncoder()\n",
        "df['gender_encoded'] = le.fit_transform(df['gender'])\n",
        "\n",
        "# One-Hot Encoding\n",
        "df_encoded = pd.get_dummies(df, columns=['city'])\n",
        "print(df_encoded)"
      ],
      "metadata": {
        "colab": {
          "base_uri": "https://localhost:8080/"
        },
        "id": "uqCajhneD6PC",
        "outputId": "baf6ac08-86f7-4786-f9a6-0f79a7b95742"
      },
      "execution_count": 3,
      "outputs": [
        {
          "output_type": "stream",
          "name": "stdout",
          "text": [
            "   age  salary gender  gender_encoded  city_Bangalore  city_Delhi  city_Mumbai\n",
            "0   25   50000      M               1           False       False         True\n",
            "1   30   60000      F               0           False        True        False\n",
            "2   35   70000      M               1            True       False        False\n"
          ]
        }
      ]
    },
    {
      "cell_type": "markdown",
      "source": [
        "7. What is training and testing a dataset?\n",
        "\n",
        "Ans:- Training: Teaching model using training data. Testing: Evaluating model performance on unseen test data."
      ],
      "metadata": {
        "id": "oRHuWElWEI-T"
      }
    },
    {
      "cell_type": "markdown",
      "source": [
        "8. What is sklearn.preprocessing?\n",
        "\n",
        "Ans:- A module containing data preprocessing tools like scaling, encoding, and transformation."
      ],
      "metadata": {
        "id": "KHfmhMqAEWcp"
      }
    },
    {
      "cell_type": "markdown",
      "source": [
        "9. What is a Test set?\n",
        "\n",
        "Ans:- Data reserved for final model evaluation, never used during training to get unbiased performance estimate."
      ],
      "metadata": {
        "id": "pbyA1849Eaqf"
      }
    },
    {
      "cell_type": "markdown",
      "source": [
        "10. How to split data for model fitting in Python?\n",
        "\n",
        "Ans:- Use train_test_split from sklearn."
      ],
      "metadata": {
        "id": "LWbKLIS7Ehua"
      }
    },
    {
      "cell_type": "markdown",
      "source": [
        "11. Why perform EDA before fitting a model?\n",
        "\n",
        "Ans:- EDA (Exploratory Data Analysis) helps understand data patterns, detect outliers, find correlations, and choose appropriate algorithms."
      ],
      "metadata": {
        "id": "8yBBNkTqEr1A"
      }
    },
    {
      "cell_type": "markdown",
      "source": [
        "12. What is correlation?\n",
        "\n",
        "Ans:- Correlation measures the linear relationship between two variables (-1 to +1)."
      ],
      "metadata": {
        "id": "qL1lt0lVE7ox"
      }
    },
    {
      "cell_type": "markdown",
      "source": [
        "13. What does negative correlation mean?\n",
        "\n",
        "Ans:- Negative correlation means as one variable increases, the other decreases."
      ],
      "metadata": {
        "id": "xF5eIrIHFIqN"
      }
    },
    {
      "cell_type": "markdown",
      "source": [
        "14. How to find correlation between variables in Python?\n",
        "\n",
        "Ans:- in code"
      ],
      "metadata": {
        "id": "tbik4dKNFPmo"
      }
    },
    {
      "cell_type": "code",
      "source": [
        "import pandas as pd\n",
        "import numpy as np\n",
        "\n",
        "data = pd.DataFrame({'height': [150, 160, 170, 180], 'weight': [50, 60, 70, 80]})\n",
        "correlation = data['height'].corr(data['weight'])\n",
        "print(f\"Correlation: {correlation}\")"
      ],
      "metadata": {
        "colab": {
          "base_uri": "https://localhost:8080/"
        },
        "id": "H5yuZNnbFgPe",
        "outputId": "47df8a04-be9a-4512-958c-e26fa988b848"
      },
      "execution_count": 6,
      "outputs": [
        {
          "output_type": "stream",
          "name": "stdout",
          "text": [
            "Correlation: 1.0\n"
          ]
        }
      ]
    },
    {
      "cell_type": "markdown",
      "source": [
        "15. What is causation? Difference with correlation?\n",
        "\n",
        "Ans:- Causation means one variable directly causes change in another. Correlation just shows relationship.\n",
        "Example: Ice cream sales correlate with drowning deaths (both increase in summer), but ice cream doesn't cause drowning."
      ],
      "metadata": {
        "id": "VVtSR9hFFiU2"
      }
    },
    {
      "cell_type": "markdown",
      "source": [
        "16. What is an Optimizer? Different types?\n",
        "\n",
        "Ans:- Optimizers update model parameters to minimize loss function."
      ],
      "metadata": {
        "id": "b98AwDhyFoyM"
      }
    },
    {
      "cell_type": "markdown",
      "source": [
        "17. What is sklearn.linear_model?\n",
        "\n",
        "Ans:- Module containing linear algorithms like Linear Regression, Logistic Regression, Ridge, Lasso.\n"
      ],
      "metadata": {
        "id": "QQddWRcqFzmn"
      }
    },
    {
      "cell_type": "markdown",
      "source": [
        "18. What does model.fit() do? Arguments?\n",
        "\n",
        "ANs:- Trains the model using training data. Arguments: X (features), y (target), sample_weight (optional)."
      ],
      "metadata": {
        "id": "9zvBeUd3F4Z7"
      }
    },
    {
      "cell_type": "markdown",
      "source": [
        "19. What does model.predict() do? Arguments?\n",
        "\n",
        "Ans:- Makes predictions on new data. Argument: X (features to predict on)."
      ],
      "metadata": {
        "id": "oYBvb2i4F_n7"
      }
    },
    {
      "cell_type": "markdown",
      "source": [
        "20. Continuous and categorical variables\n",
        "\n",
        "Ans:- Continuous: Numerical values that can take any value (height, weight, temperature)\n",
        "\n",
        "Categorical: Discrete categories (color, gender, city)"
      ],
      "metadata": {
        "id": "-hPL1smbGC4m"
      }
    },
    {
      "cell_type": "markdown",
      "source": [
        "21. What is feature scaling? How does it help?\n",
        "\n",
        "Ans:- Normalizing features to similar scales. Helps algorithms converge faster and perform better."
      ],
      "metadata": {
        "id": "IeClcwO6GMig"
      }
    },
    {
      "cell_type": "markdown",
      "source": [
        "22. How to perform scaling in Python?\n",
        "\n",
        "Ans:- In code"
      ],
      "metadata": {
        "id": "js_Tnq4IGWEz"
      }
    },
    {
      "cell_type": "code",
      "source": [
        "from sklearn.preprocessing import StandardScaler, MinMaxScaler\n",
        "\n",
        "# Standard Scaler\n",
        "ss = StandardScaler()\n",
        "X_standard = ss.fit_transform(X)\n",
        "\n",
        "# MinMax Scaler\n",
        "mm = MinMaxScaler()\n",
        "X_minmax = mm.fit_transform(X)"
      ],
      "metadata": {
        "id": "cmaEy4HcGYkj"
      },
      "execution_count": null,
      "outputs": []
    },
    {
      "cell_type": "markdown",
      "source": [
        "23. What is sklearn.preprocessing?\n",
        "\n",
        "Ans: A module containing data preprocessing tools like scaling, encoding, and transformation."
      ],
      "metadata": {
        "id": "R01m6tnzGlOL"
      }
    },
    {
      "cell_type": "markdown",
      "source": [
        "24.  How to split data for model fitting in Python?\n",
        "Ans:- Use train_test_split from sklearn."
      ],
      "metadata": {
        "id": "IcaIV6DsGrfb"
      }
    },
    {
      "cell_type": "markdown",
      "source": [
        "25. What is data encoding?\n",
        "\n",
        "Ans: Converting categorical data into numerical format for machine learning algorithms."
      ],
      "metadata": {
        "id": "PedDb6wNG0uH"
      }
    },
    {
      "cell_type": "code",
      "source": [
        "from sklearn.preprocessing import LabelEncoder, OneHotEncoder\n",
        "import pandas as pd\n",
        "\n",
        "df = pd.DataFrame({'color': ['red', 'blue', 'green', 'red']})\n",
        "\n",
        "le = LabelEncoder()\n",
        "df['color_label'] = le.fit_transform(df['color'])\n",
        "\n",
        "df_onehot = pd.get_dummies(df, columns=['color'])\n",
        "print(df_onehot)\n",
        "\n",
        "from sklearn.preprocessing import OneHotEncoder\n",
        "ohe = OneHotEncoder()\n",
        "encoded = ohe.fit_transform(df[['color']])"
      ],
      "metadata": {
        "colab": {
          "base_uri": "https://localhost:8080/"
        },
        "id": "gIx-3la-G6Y2",
        "outputId": "0455a385-2469-462e-b722-13506352f120"
      },
      "execution_count": 8,
      "outputs": [
        {
          "output_type": "stream",
          "name": "stdout",
          "text": [
            "   color_label  color_blue  color_green  color_red\n",
            "0            2       False        False       True\n",
            "1            0        True        False      False\n",
            "2            1       False         True      False\n",
            "3            2       False        False       True\n"
          ]
        }
      ]
    }
  ]
}